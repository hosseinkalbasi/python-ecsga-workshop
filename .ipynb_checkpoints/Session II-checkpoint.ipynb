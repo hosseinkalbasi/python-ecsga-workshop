{
 "cells": [
  {
   "cell_type": "markdown",
   "metadata": {},
   "source": [
    "Learn String"
   ]
  },
  {
   "cell_type": "code",
   "execution_count": 3,
   "metadata": {},
   "outputs": [
    {
     "name": "stdout",
     "output_type": "stream",
     "text": [
      "red\n",
      "blue\n",
      "yellow\n"
     ]
    }
   ],
   "source": [
    "for item in \"red-blue-yellow\".split('-'):\n",
    "    print(item)"
   ]
  },
  {
   "cell_type": "code",
   "execution_count": 5,
   "metadata": {},
   "outputs": [],
   "source": [
    "mylist = \"red-blue-yellow\".split('-')"
   ]
  },
  {
   "cell_type": "code",
   "execution_count": 6,
   "metadata": {},
   "outputs": [
    {
     "data": {
      "text/plain": [
       "['red', 'blue', 'yellow']"
      ]
     },
     "execution_count": 6,
     "metadata": {},
     "output_type": "execute_result"
    }
   ],
   "source": [
    "mylist"
   ]
  },
  {
   "cell_type": "code",
   "execution_count": 7,
   "metadata": {},
   "outputs": [
    {
     "name": "stdout",
     "output_type": "stream",
     "text": [
      "red\n",
      "blue\n",
      "yellow\n"
     ]
    }
   ],
   "source": [
    "for item in mylist:\n",
    "    print(item)"
   ]
  },
  {
   "cell_type": "markdown",
   "metadata": {},
   "source": [
    "# If, Elif, Else"
   ]
  },
  {
   "cell_type": "code",
   "execution_count": 8,
   "metadata": {},
   "outputs": [
    {
     "data": {
      "text/plain": [
       "True"
      ]
     },
     "execution_count": 8,
     "metadata": {},
     "output_type": "execute_result"
    }
   ],
   "source": [
    "2 == 2"
   ]
  },
  {
   "cell_type": "code",
   "execution_count": 9,
   "metadata": {},
   "outputs": [
    {
     "data": {
      "text/plain": [
       "False"
      ]
     },
     "execution_count": 9,
     "metadata": {},
     "output_type": "execute_result"
    }
   ],
   "source": [
    "2 == 3"
   ]
  },
  {
   "cell_type": "code",
   "execution_count": 10,
   "metadata": {},
   "outputs": [
    {
     "data": {
      "text/plain": [
       "True"
      ]
     },
     "execution_count": 10,
     "metadata": {},
     "output_type": "execute_result"
    }
   ],
   "source": [
    "3 == 3"
   ]
  },
  {
   "cell_type": "code",
   "execution_count": 11,
   "metadata": {},
   "outputs": [
    {
     "data": {
      "text/plain": [
       "False"
      ]
     },
     "execution_count": 11,
     "metadata": {},
     "output_type": "execute_result"
    }
   ],
   "source": [
    "4 == 6"
   ]
  },
  {
   "cell_type": "code",
   "execution_count": 12,
   "metadata": {},
   "outputs": [
    {
     "data": {
      "text/plain": [
       "True"
      ]
     },
     "execution_count": 12,
     "metadata": {},
     "output_type": "execute_result"
    }
   ],
   "source": [
    "2 != 3"
   ]
  },
  {
   "cell_type": "code",
   "execution_count": 13,
   "metadata": {},
   "outputs": [
    {
     "data": {
      "text/plain": [
       "False"
      ]
     },
     "execution_count": 13,
     "metadata": {},
     "output_type": "execute_result"
    }
   ],
   "source": [
    "4 != 4"
   ]
  },
  {
   "cell_type": "code",
   "execution_count": 15,
   "metadata": {},
   "outputs": [
    {
     "data": {
      "text/plain": [
       "True"
      ]
     },
     "execution_count": 15,
     "metadata": {},
     "output_type": "execute_result"
    }
   ],
   "source": [
    "2 <= 2"
   ]
  },
  {
   "cell_type": "code",
   "execution_count": 16,
   "metadata": {},
   "outputs": [
    {
     "data": {
      "text/plain": [
       "True"
      ]
     },
     "execution_count": 16,
     "metadata": {},
     "output_type": "execute_result"
    }
   ],
   "source": [
    "2 < 3"
   ]
  },
  {
   "cell_type": "code",
   "execution_count": 17,
   "metadata": {},
   "outputs": [
    {
     "data": {
      "text/plain": [
       "False"
      ]
     },
     "execution_count": 17,
     "metadata": {},
     "output_type": "execute_result"
    }
   ],
   "source": [
    "2<2"
   ]
  },
  {
   "cell_type": "code",
   "execution_count": 18,
   "metadata": {},
   "outputs": [
    {
     "data": {
      "text/plain": [
       "True"
      ]
     },
     "execution_count": 18,
     "metadata": {},
     "output_type": "execute_result"
    }
   ],
   "source": [
    "'Hi' == \"Hi\""
   ]
  },
  {
   "cell_type": "code",
   "execution_count": 19,
   "metadata": {},
   "outputs": [
    {
     "name": "stdout",
     "output_type": "stream",
     "text": [
      "Hi I am True\n"
     ]
    }
   ],
   "source": [
    "if True:\n",
    "    print(\"Hi I am True\")"
   ]
  },
  {
   "cell_type": "code",
   "execution_count": 20,
   "metadata": {
    "collapsed": true
   },
   "outputs": [],
   "source": [
    "if False:\n",
    "    print(\"I am False\")"
   ]
  },
  {
   "cell_type": "code",
   "execution_count": 22,
   "metadata": {},
   "outputs": [],
   "source": [
    "if 2 == 5 :\n",
    "    print(\"the statement is True\")"
   ]
  },
  {
   "cell_type": "code",
   "execution_count": 23,
   "metadata": {
    "collapsed": true
   },
   "outputs": [],
   "source": [
    "mylist = [1 , 2, 5, 6, 8, 9, 6]"
   ]
  },
  {
   "cell_type": "code",
   "execution_count": 25,
   "metadata": {},
   "outputs": [
    {
     "name": "stdout",
     "output_type": "stream",
     "text": [
      "1\n",
      "2\n",
      "5\n",
      "Hi I am 6. See below!\n",
      "6\n",
      "8\n",
      "9\n",
      "Hi I am 6. See below!\n",
      "6\n"
     ]
    }
   ],
   "source": [
    "for num in mylist:\n",
    "    \n",
    "    \n",
    "    if num == 6:\n",
    "        print(\"Hi I am 6. See below!\")\n",
    "      \n",
    "    \n",
    "    \n",
    "    print(num)"
   ]
  },
  {
   "cell_type": "code",
   "execution_count": 35,
   "metadata": {},
   "outputs": [
    {
     "name": "stdout",
     "output_type": "stream",
     "text": [
      "Hi I am not 6\n"
     ]
    }
   ],
   "source": [
    "number = 5\n",
    "\n",
    "if number == 6:\n",
    "    print(\"Hi I am 6\")\n",
    "    \n",
    "    \n",
    "if number == 4:\n",
    "    print(\"Hi I am 4\")\n",
    "    \n",
    "else:\n",
    "    print(\"Hi I am not 4\")\n",
    "    "
   ]
  },
  {
   "cell_type": "code",
   "execution_count": 40,
   "metadata": {},
   "outputs": [
    {
     "name": "stdout",
     "output_type": "stream",
     "text": [
      "Hi I am positive\n",
      "Hi I am 5\n"
     ]
    }
   ],
   "source": [
    "num = 5\n",
    "\n",
    "# first if\n",
    "if num >0:\n",
    "    print(\"Hi I am positive\")\n",
    "    \n",
    "\n",
    "# second if\n",
    "if num == 5:\n",
    "    print(\"Hi I am 5\")\n",
    "    \n",
    "else:\n",
    "    print(\"Hi I am not 5\")"
   ]
  },
  {
   "cell_type": "code",
   "execution_count": 43,
   "metadata": {},
   "outputs": [
    {
     "data": {
      "text/plain": [
       "1"
      ]
     },
     "execution_count": 43,
     "metadata": {},
     "output_type": "execute_result"
    }
   ],
   "source": [
    "5%2"
   ]
  },
  {
   "cell_type": "code",
   "execution_count": 44,
   "metadata": {},
   "outputs": [
    {
     "data": {
      "text/plain": [
       "range(0, 6)"
      ]
     },
     "execution_count": 44,
     "metadata": {},
     "output_type": "execute_result"
    }
   ],
   "source": [
    "range(6)"
   ]
  },
  {
   "cell_type": "code",
   "execution_count": 47,
   "metadata": {},
   "outputs": [
    {
     "data": {
      "text/plain": [
       "[1,\n",
       " 2,\n",
       " 3,\n",
       " 4,\n",
       " 5,\n",
       " 6,\n",
       " 7,\n",
       " 8,\n",
       " 9,\n",
       " 10,\n",
       " 11,\n",
       " 12,\n",
       " 13,\n",
       " 14,\n",
       " 15,\n",
       " 16,\n",
       " 17,\n",
       " 18,\n",
       " 19,\n",
       " 20,\n",
       " 21,\n",
       " 22,\n",
       " 23,\n",
       " 24,\n",
       " 25,\n",
       " 26,\n",
       " 27,\n",
       " 28,\n",
       " 29,\n",
       " 30,\n",
       " 31,\n",
       " 32,\n",
       " 33,\n",
       " 34,\n",
       " 35,\n",
       " 36,\n",
       " 37,\n",
       " 38,\n",
       " 39,\n",
       " 40,\n",
       " 41,\n",
       " 42,\n",
       " 43,\n",
       " 44,\n",
       " 45,\n",
       " 46,\n",
       " 47,\n",
       " 48,\n",
       " 49,\n",
       " 50,\n",
       " 51,\n",
       " 52,\n",
       " 53,\n",
       " 54,\n",
       " 55,\n",
       " 56,\n",
       " 57,\n",
       " 58,\n",
       " 59,\n",
       " 60,\n",
       " 61,\n",
       " 62,\n",
       " 63,\n",
       " 64,\n",
       " 65,\n",
       " 66,\n",
       " 67,\n",
       " 68,\n",
       " 69,\n",
       " 70,\n",
       " 71,\n",
       " 72,\n",
       " 73,\n",
       " 74,\n",
       " 75,\n",
       " 76,\n",
       " 77,\n",
       " 78,\n",
       " 79,\n",
       " 80,\n",
       " 81,\n",
       " 82,\n",
       " 83,\n",
       " 84,\n",
       " 85,\n",
       " 86,\n",
       " 87,\n",
       " 88,\n",
       " 89,\n",
       " 90,\n",
       " 91,\n",
       " 92,\n",
       " 93,\n",
       " 94,\n",
       " 95,\n",
       " 96,\n",
       " 97,\n",
       " 98,\n",
       " 99]"
      ]
     },
     "execution_count": 47,
     "metadata": {},
     "output_type": "execute_result"
    }
   ],
   "source": [
    "list(range(1,100))"
   ]
  },
  {
   "cell_type": "code",
   "execution_count": 48,
   "metadata": {},
   "outputs": [
    {
     "data": {
      "text/plain": [
       "0"
      ]
     },
     "execution_count": 48,
     "metadata": {},
     "output_type": "execute_result"
    }
   ],
   "source": [
    "6 % 2"
   ]
  },
  {
   "cell_type": "code",
   "execution_count": 50,
   "metadata": {},
   "outputs": [
    {
     "name": "stdout",
     "output_type": "stream",
     "text": [
      "yes this is even\n"
     ]
    }
   ],
   "source": [
    "if 6%2==0:\n",
    "    print(\"yes this is even\")"
   ]
  },
  {
   "cell_type": "code",
   "execution_count": 52,
   "metadata": {
    "collapsed": true
   },
   "outputs": [],
   "source": [
    "mylist = list(range(1,100))"
   ]
  },
  {
   "cell_type": "code",
   "execution_count": 57,
   "metadata": {},
   "outputs": [
    {
     "name": "stdout",
     "output_type": "stream",
     "text": [
      "[2, 4, 6, 8, 10, 12, 14, 16, 18, 20, 22, 24, 26, 28, 30, 32, 34, 36, 38, 40, 42, 44, 46, 48, 50, 52, 54, 56, 58, 60, 62, 64, 66, 68, 70, 72, 74, 76, 78, 80, 82, 84, 86, 88, 90, 92, 94, 96, 98]\n"
     ]
    }
   ],
   "source": [
    "\n",
    "# create an empty list\n",
    "even_list=[]\n",
    "\n",
    "# go to a for loop and populate my empty list\n",
    "for num in mylist:\n",
    "    \n",
    "    if num%2 == 0:\n",
    "        even_list.append(num)\n",
    "\n",
    "#I am after for loop - my list is full now- print my full list\n",
    "print(even_list)\n",
    "        "
   ]
  },
  {
   "cell_type": "code",
   "execution_count": 58,
   "metadata": {},
   "outputs": [
    {
     "name": "stdout",
     "output_type": "stream",
     "text": [
      "2\n",
      "4\n",
      "6\n",
      "8\n",
      "10\n",
      "12\n",
      "14\n",
      "16\n",
      "18\n",
      "20\n",
      "22\n",
      "24\n",
      "26\n",
      "28\n",
      "30\n",
      "32\n",
      "34\n",
      "36\n",
      "38\n",
      "40\n",
      "42\n",
      "44\n",
      "46\n",
      "48\n",
      "50\n",
      "52\n",
      "54\n",
      "56\n",
      "58\n",
      "60\n",
      "62\n",
      "64\n",
      "66\n",
      "68\n",
      "70\n",
      "72\n",
      "74\n",
      "76\n",
      "78\n",
      "80\n",
      "82\n",
      "84\n",
      "86\n",
      "88\n",
      "90\n",
      "92\n",
      "94\n",
      "96\n",
      "98\n"
     ]
    }
   ],
   "source": [
    "\n",
    "\n",
    "\n",
    "for num in mylist:\n",
    "    \n",
    "    if num%2 == 0:\n",
    "        print(num)\n"
   ]
  },
  {
   "cell_type": "code",
   "execution_count": 62,
   "metadata": {},
   "outputs": [
    {
     "name": "stdout",
     "output_type": "stream",
     "text": [
      "[1, 2, 3, 4, 5]\n"
     ]
    }
   ],
   "source": [
    "a = 2\n",
    "b = \"Hi\"\n",
    "c = [1,2,3,4,5]\n",
    "\n",
    "print(c)"
   ]
  },
  {
   "cell_type": "code",
   "execution_count": 68,
   "metadata": {
    "collapsed": true
   },
   "outputs": [],
   "source": [
    "num = 8\n",
    "s = \"my value is {}\".format(num)"
   ]
  },
  {
   "cell_type": "code",
   "execution_count": 69,
   "metadata": {},
   "outputs": [
    {
     "data": {
      "text/plain": [
       "'my value is 8'"
      ]
     },
     "execution_count": 69,
     "metadata": {},
     "output_type": "execute_result"
    }
   ],
   "source": [
    "s"
   ]
  },
  {
   "cell_type": "code",
   "execution_count": 70,
   "metadata": {},
   "outputs": [
    {
     "name": "stdout",
     "output_type": "stream",
     "text": [
      "my value is 8\n"
     ]
    }
   ],
   "source": [
    "print(s)"
   ]
  },
  {
   "cell_type": "code",
   "execution_count": 75,
   "metadata": {},
   "outputs": [
    {
     "name": "stdout",
     "output_type": "stream",
     "text": [
      "My value is 2. I was first 1. I am now an even number!\n",
      "My value is 4. I was first 3. I am now an even number!\n",
      "My value is 6. I was first 5. I am now an even number!\n",
      "My value is 8. I was first 7. I am now an even number!\n",
      "My value is 10. I was first 9. I am now an even number!\n",
      "My value is 12. I was first 11. I am now an even number!\n",
      "My value is 14. I was first 13. I am now an even number!\n",
      "My value is 16. I was first 15. I am now an even number!\n",
      "My value is 18. I was first 17. I am now an even number!\n",
      "My value is 20. I was first 19. I am now an even number!\n",
      "My value is 22. I was first 21. I am now an even number!\n",
      "My value is 24. I was first 23. I am now an even number!\n",
      "My value is 26. I was first 25. I am now an even number!\n",
      "My value is 28. I was first 27. I am now an even number!\n",
      "My value is 30. I was first 29. I am now an even number!\n",
      "My value is 32. I was first 31. I am now an even number!\n",
      "My value is 34. I was first 33. I am now an even number!\n",
      "My value is 36. I was first 35. I am now an even number!\n",
      "My value is 38. I was first 37. I am now an even number!\n",
      "My value is 40. I was first 39. I am now an even number!\n",
      "My value is 42. I was first 41. I am now an even number!\n",
      "My value is 44. I was first 43. I am now an even number!\n",
      "My value is 46. I was first 45. I am now an even number!\n",
      "My value is 48. I was first 47. I am now an even number!\n",
      "My value is 50. I was first 49. I am now an even number!\n",
      "My value is 52. I was first 51. I am now an even number!\n",
      "My value is 54. I was first 53. I am now an even number!\n",
      "My value is 56. I was first 55. I am now an even number!\n",
      "My value is 58. I was first 57. I am now an even number!\n",
      "My value is 60. I was first 59. I am now an even number!\n",
      "My value is 62. I was first 61. I am now an even number!\n",
      "My value is 64. I was first 63. I am now an even number!\n",
      "My value is 66. I was first 65. I am now an even number!\n",
      "My value is 68. I was first 67. I am now an even number!\n",
      "My value is 70. I was first 69. I am now an even number!\n",
      "My value is 72. I was first 71. I am now an even number!\n",
      "My value is 74. I was first 73. I am now an even number!\n",
      "My value is 76. I was first 75. I am now an even number!\n",
      "My value is 78. I was first 77. I am now an even number!\n",
      "My value is 80. I was first 79. I am now an even number!\n",
      "My value is 82. I was first 81. I am now an even number!\n",
      "My value is 84. I was first 83. I am now an even number!\n",
      "My value is 86. I was first 85. I am now an even number!\n",
      "My value is 88. I was first 87. I am now an even number!\n",
      "My value is 90. I was first 89. I am now an even number!\n",
      "My value is 92. I was first 91. I am now an even number!\n",
      "My value is 94. I was first 93. I am now an even number!\n",
      "My value is 96. I was first 95. I am now an even number!\n",
      "My value is 98. I was first 97. I am now an even number!\n"
     ]
    }
   ],
   "source": [
    "mylist = list(range(1,100))\n",
    "for num in mylist:\n",
    "    \n",
    "    if num%2 == 0:\n",
    "        print(\"My value is {}. I was first {}. I am now an even number!\".format(num, num-1))"
   ]
  },
  {
   "cell_type": "code",
   "execution_count": 77,
   "metadata": {},
   "outputs": [
    {
     "name": "stdout",
     "output_type": "stream",
     "text": [
      "My value is 2. I was first 1. I am now an even number!\n",
      "My value is 4. I was first 3. I am now an even number!\n",
      "My value is 6. I was first 5. I am now an even number!\n",
      "My value is 8. I was first 7. I am now an even number!\n",
      "My value is 10. I was first 9. I am now an even number!\n",
      "My value is 12. I was first 11. I am now an even number!\n",
      "My value is 14. I was first 13. I am now an even number!\n",
      "My value is 16. I was first 15. I am now an even number!\n",
      "My value is 18. I was first 17. I am now an even number!\n",
      "My value is 20. I was first 19. I am now an even number!\n",
      "My value is 22. I was first 21. I am now an even number!\n",
      "My value is 24. I was first 23. I am now an even number!\n",
      "My value is 26. I was first 25. I am now an even number!\n",
      "My value is 28. I was first 27. I am now an even number!\n",
      "My value is 30. I was first 29. I am now an even number!\n",
      "My value is 32. I was first 31. I am now an even number!\n",
      "My value is 34. I was first 33. I am now an even number!\n",
      "My value is 36. I was first 35. I am now an even number!\n",
      "My value is 38. I was first 37. I am now an even number!\n",
      "My value is 40. I was first 39. I am now an even number!\n",
      "My value is 42. I was first 41. I am now an even number!\n",
      "My value is 44. I was first 43. I am now an even number!\n",
      "My value is 46. I was first 45. I am now an even number!\n",
      "My value is 48. I was first 47. I am now an even number!\n",
      "My value is 50. I was first 49. I am now an even number!\n",
      "My value is 52. I was first 51. I am now an even number!\n",
      "My value is 54. I was first 53. I am now an even number!\n",
      "My value is 56. I was first 55. I am now an even number!\n",
      "My value is 58. I was first 57. I am now an even number!\n",
      "My value is 60. I was first 59. I am now an even number!\n",
      "My value is 62. I was first 61. I am now an even number!\n",
      "My value is 64. I was first 63. I am now an even number!\n",
      "My value is 66. I was first 65. I am now an even number!\n",
      "My value is 68. I was first 67. I am now an even number!\n",
      "My value is 70. I was first 69. I am now an even number!\n",
      "My value is 72. I was first 71. I am now an even number!\n",
      "My value is 74. I was first 73. I am now an even number!\n",
      "My value is 76. I was first 75. I am now an even number!\n",
      "My value is 78. I was first 77. I am now an even number!\n",
      "My value is 80. I was first 79. I am now an even number!\n",
      "My value is 82. I was first 81. I am now an even number!\n",
      "My value is 84. I was first 83. I am now an even number!\n",
      "My value is 86. I was first 85. I am now an even number!\n",
      "My value is 88. I was first 87. I am now an even number!\n",
      "My value is 90. I was first 89. I am now an even number!\n",
      "My value is 92. I was first 91. I am now an even number!\n",
      "My value is 94. I was first 93. I am now an even number!\n",
      "My value is 96. I was first 95. I am now an even number!\n",
      "My value is 98. I was first 97. I am now an even number!\n"
     ]
    }
   ],
   "source": [
    "mylist = list(range(1,100))\n",
    "for num in mylist:\n",
    "    \n",
    "    if num%2 == 0:\n",
    "        print(\"My value is {a}. I was first {b}. I am now an even number!\".format(b=num-1,a=num))"
   ]
  },
  {
   "cell_type": "code",
   "execution_count": 78,
   "metadata": {
    "collapsed": true
   },
   "outputs": [],
   "source": [
    "mylist = [1, \"hi\",2]"
   ]
  },
  {
   "cell_type": "code",
   "execution_count": 80,
   "metadata": {},
   "outputs": [
    {
     "data": {
      "text/plain": [
       "'hi'"
      ]
     },
     "execution_count": 80,
     "metadata": {},
     "output_type": "execute_result"
    }
   ],
   "source": [
    "mylist[1]"
   ]
  },
  {
   "cell_type": "markdown",
   "metadata": {},
   "source": [
    "# Dictionary"
   ]
  },
  {
   "cell_type": "code",
   "execution_count": 92,
   "metadata": {},
   "outputs": [],
   "source": [
    "a = {\"name\":\"Hossein\", \"ID\":[1,2,3,78,9], \"University\":\"Concordia\"}"
   ]
  },
  {
   "cell_type": "code",
   "execution_count": 87,
   "metadata": {},
   "outputs": [],
   "source": [
    "b ={\"name\":\"Toyota\", \"color\":\"red\"}"
   ]
  },
  {
   "cell_type": "code",
   "execution_count": 88,
   "metadata": {},
   "outputs": [],
   "source": [
    "c = {\"weather\":\"Sunny\"}"
   ]
  },
  {
   "cell_type": "code",
   "execution_count": 89,
   "metadata": {},
   "outputs": [],
   "source": [
    "d= {\"key\":\"value\"}"
   ]
  },
  {
   "cell_type": "code",
   "execution_count": 93,
   "metadata": {},
   "outputs": [
    {
     "data": {
      "text/plain": [
       "[1, 2, 3, 78, 9]"
      ]
     },
     "execution_count": 93,
     "metadata": {},
     "output_type": "execute_result"
    }
   ],
   "source": [
    "a[\"ID\"]"
   ]
  },
  {
   "cell_type": "code",
   "execution_count": 106,
   "metadata": {},
   "outputs": [],
   "source": [
    "e = {\"Student Name\":\"Joey\", \"GPA\":3.8, \"full-time-sememsters\":[\"F18\",\"W18\", \"F19\"]}"
   ]
  },
  {
   "cell_type": "code",
   "execution_count": 101,
   "metadata": {},
   "outputs": [
    {
     "data": {
      "text/plain": [
       "{'student_name': 'Joey',\n",
       " 'GPA': 3.8,\n",
       " 'full-time-sememsters': ['F18', 'W18', 'F19']}"
      ]
     },
     "execution_count": 101,
     "metadata": {},
     "output_type": "execute_result"
    }
   ],
   "source": [
    "e"
   ]
  },
  {
   "cell_type": "code",
   "execution_count": 102,
   "metadata": {},
   "outputs": [
    {
     "data": {
      "text/plain": [
       "dict"
      ]
     },
     "execution_count": 102,
     "metadata": {},
     "output_type": "execute_result"
    }
   ],
   "source": [
    "type(a)"
   ]
  },
  {
   "cell_type": "code",
   "execution_count": 107,
   "metadata": {},
   "outputs": [
    {
     "data": {
      "text/plain": [
       "'Joey'"
      ]
     },
     "execution_count": 107,
     "metadata": {},
     "output_type": "execute_result"
    }
   ],
   "source": [
    "e[\"Student Name\"]"
   ]
  },
  {
   "cell_type": "code",
   "execution_count": 108,
   "metadata": {},
   "outputs": [
    {
     "data": {
      "text/plain": [
       "dict_keys(['Student Name', 'GPA', 'full-time-sememsters'])"
      ]
     },
     "execution_count": 108,
     "metadata": {},
     "output_type": "execute_result"
    }
   ],
   "source": [
    "e.keys()"
   ]
  },
  {
   "cell_type": "code",
   "execution_count": 109,
   "metadata": {},
   "outputs": [
    {
     "data": {
      "text/plain": [
       "dict_values(['Joey', 3.8, ['F18', 'W18', 'F19']])"
      ]
     },
     "execution_count": 109,
     "metadata": {},
     "output_type": "execute_result"
    }
   ],
   "source": [
    "e.values()"
   ]
  },
  {
   "cell_type": "code",
   "execution_count": 114,
   "metadata": {},
   "outputs": [
    {
     "data": {
      "text/plain": [
       "dict_items([('Student Name', 'Joey'), ('GPA', 3.8), ('full-time-sememsters', ['F18', 'W18', 'F19'])])"
      ]
     },
     "execution_count": 114,
     "metadata": {},
     "output_type": "execute_result"
    }
   ],
   "source": [
    "e.items()"
   ]
  },
  {
   "cell_type": "code",
   "execution_count": 111,
   "metadata": {},
   "outputs": [
    {
     "name": "stdout",
     "output_type": "stream",
     "text": [
      "('Student Name', 'Joey')\n",
      "('GPA', 3.8)\n",
      "('full-time-sememsters', ['F18', 'W18', 'F19'])\n"
     ]
    }
   ],
   "source": [
    "for item in e.items():\n",
    "    print(item)"
   ]
  },
  {
   "cell_type": "code",
   "execution_count": 115,
   "metadata": {},
   "outputs": [
    {
     "name": "stdout",
     "output_type": "stream",
     "text": [
      "Student Name :  Joey\n",
      "GPA :  3.8\n",
      "full-time-sememsters :  ['F18', 'W18', 'F19']\n"
     ]
    }
   ],
   "source": [
    "for item1, item2 in e.items():\n",
    "    print(item1,\": \", item2)"
   ]
  },
  {
   "cell_type": "code",
   "execution_count": 116,
   "metadata": {},
   "outputs": [
    {
     "name": "stdout",
     "output_type": "stream",
     "text": [
      "Student Name :  Joey\n",
      "GPA :  3.8\n",
      "full-time-sememsters :  ['F18', 'W18', 'F19']\n"
     ]
    }
   ],
   "source": [
    "for key, value in e.items():\n",
    "    print(key,\": \", value)"
   ]
  },
  {
   "cell_type": "code",
   "execution_count": 117,
   "metadata": {},
   "outputs": [
    {
     "data": {
      "text/plain": [
       "{'Student Name': 'Joey',\n",
       " 'GPA': 3.8,\n",
       " 'full-time-sememsters': ['F18', 'W18', 'F19']}"
      ]
     },
     "execution_count": 117,
     "metadata": {},
     "output_type": "execute_result"
    }
   ],
   "source": [
    "e"
   ]
  },
  {
   "cell_type": "code",
   "execution_count": 120,
   "metadata": {},
   "outputs": [
    {
     "data": {
      "text/plain": [
       "'F18'"
      ]
     },
     "execution_count": 120,
     "metadata": {},
     "output_type": "execute_result"
    }
   ],
   "source": [
    "e[\"full-time-sememsters\"][0]"
   ]
  },
  {
   "cell_type": "code",
   "execution_count": 121,
   "metadata": {
    "collapsed": true
   },
   "outputs": [],
   "source": [
    "mydict = {}"
   ]
  },
  {
   "cell_type": "code",
   "execution_count": 122,
   "metadata": {
    "collapsed": true
   },
   "outputs": [],
   "source": [
    "mydict[\"name\"] = \"Peter\""
   ]
  },
  {
   "cell_type": "code",
   "execution_count": 123,
   "metadata": {},
   "outputs": [
    {
     "data": {
      "text/plain": [
       "{'name': 'Peter'}"
      ]
     },
     "execution_count": 123,
     "metadata": {},
     "output_type": "execute_result"
    }
   ],
   "source": [
    "mydict"
   ]
  },
  {
   "cell_type": "code",
   "execution_count": 124,
   "metadata": {
    "collapsed": true
   },
   "outputs": [],
   "source": [
    "mydict[\"name\"] = \"Jack\""
   ]
  },
  {
   "cell_type": "code",
   "execution_count": 125,
   "metadata": {},
   "outputs": [
    {
     "data": {
      "text/plain": [
       "{'name': 'Jack'}"
      ]
     },
     "execution_count": 125,
     "metadata": {},
     "output_type": "execute_result"
    }
   ],
   "source": [
    "mydict"
   ]
  },
  {
   "cell_type": "code",
   "execution_count": null,
   "metadata": {
    "collapsed": true
   },
   "outputs": [],
   "source": []
  },
  {
   "cell_type": "code",
   "execution_count": null,
   "metadata": {
    "collapsed": true
   },
   "outputs": [],
   "source": []
  },
  {
   "cell_type": "code",
   "execution_count": null,
   "metadata": {
    "collapsed": true
   },
   "outputs": [],
   "source": []
  },
  {
   "cell_type": "markdown",
   "metadata": {},
   "source": [
    "with the three lists below, create a list of dictionaries in a for loop"
   ]
  },
  {
   "cell_type": "code",
   "execution_count": 126,
   "metadata": {
    "collapsed": true
   },
   "outputs": [],
   "source": [
    "name_list = [\"jack\",\"peter\",\"saif\",\"hossein\",\"asif\"]"
   ]
  },
  {
   "cell_type": "code",
   "execution_count": 127,
   "metadata": {
    "collapsed": true
   },
   "outputs": [],
   "source": [
    "course_num = [1,2,5,2,0]"
   ]
  },
  {
   "cell_type": "code",
   "execution_count": 128,
   "metadata": {
    "collapsed": true
   },
   "outputs": [],
   "source": [
    "semester_list = [[\"F18\"],[\"F18\",\"W19\"],[\"F17\",\"F18\"],[\"W18\"],[]]"
   ]
  },
  {
   "cell_type": "code",
   "execution_count": null,
   "metadata": {},
   "outputs": [],
   "source": []
  },
  {
   "cell_type": "code",
   "execution_count": 132,
   "metadata": {},
   "outputs": [
    {
     "data": {
      "text/plain": [
       "[{'Name': 'jack', 'Course No.': 1, 'Semesters Reg.': ['F18']},\n",
       " {'Name': 'peter', 'Course No.': 2, 'Semesters Reg.': ['F18', 'W19']}]"
      ]
     },
     "execution_count": 132,
     "metadata": {},
     "output_type": "execute_result"
    }
   ],
   "source": [
    "[\n",
    "{\"Name\":\"jack\", \"Course No.\":1, \"Semesters Reg.\":[\"F18\"]},\n",
    "{\"Name\":\"peter\", \"Course No.\":2, \"Semesters Reg.\":[\"F18\",\"W19\"]}  \n",
    "]"
   ]
  },
  {
   "cell_type": "code",
   "execution_count": 133,
   "metadata": {
    "collapsed": true
   },
   "outputs": [],
   "source": [
    "dict1={'Name': 'jack', 'Course No.': 1, 'Semesters Reg.': ['F18']}"
   ]
  },
  {
   "cell_type": "code",
   "execution_count": 134,
   "metadata": {
    "collapsed": true
   },
   "outputs": [],
   "source": [
    "dict2 = {'Name': 'peter', 'Course No.': 2, 'Semesters Reg.': ['F18', 'W19']}"
   ]
  },
  {
   "cell_type": "code",
   "execution_count": 135,
   "metadata": {
    "collapsed": true
   },
   "outputs": [],
   "source": [
    "list_of_dictionary = []"
   ]
  },
  {
   "cell_type": "code",
   "execution_count": 136,
   "metadata": {
    "collapsed": true
   },
   "outputs": [],
   "source": [
    "list_of_dictionary.append(dict1)"
   ]
  },
  {
   "cell_type": "code",
   "execution_count": 137,
   "metadata": {},
   "outputs": [
    {
     "data": {
      "text/plain": [
       "[{'Name': 'jack', 'Course No.': 1, 'Semesters Reg.': ['F18']}]"
      ]
     },
     "execution_count": 137,
     "metadata": {},
     "output_type": "execute_result"
    }
   ],
   "source": [
    "list_of_dictionary"
   ]
  },
  {
   "cell_type": "code",
   "execution_count": 138,
   "metadata": {
    "collapsed": true
   },
   "outputs": [],
   "source": [
    "list_of_dictionary.append(dict2)"
   ]
  },
  {
   "cell_type": "code",
   "execution_count": 139,
   "metadata": {},
   "outputs": [
    {
     "data": {
      "text/plain": [
       "[{'Name': 'jack', 'Course No.': 1, 'Semesters Reg.': ['F18']},\n",
       " {'Name': 'peter', 'Course No.': 2, 'Semesters Reg.': ['F18', 'W19']}]"
      ]
     },
     "execution_count": 139,
     "metadata": {},
     "output_type": "execute_result"
    }
   ],
   "source": [
    "list_of_dictionary"
   ]
  },
  {
   "cell_type": "code",
   "execution_count": 140,
   "metadata": {
    "collapsed": true
   },
   "outputs": [],
   "source": [
    "dict3={}"
   ]
  },
  {
   "cell_type": "code",
   "execution_count": 141,
   "metadata": {
    "collapsed": true
   },
   "outputs": [],
   "source": [
    "dict3[\"Name\"]=\"hossein\"\n",
    "dict3[\"Course No.\"]=2\n",
    "dict3[\"Semester Reg.\"]=['F18', 'W19', 'S19']"
   ]
  },
  {
   "cell_type": "code",
   "execution_count": 142,
   "metadata": {},
   "outputs": [
    {
     "data": {
      "text/plain": [
       "{'Name': 'hossein', 'Course No.': 2, 'Semester Reg.': ['F18', 'W19', 'S19']}"
      ]
     },
     "execution_count": 142,
     "metadata": {},
     "output_type": "execute_result"
    }
   ],
   "source": [
    "dict3"
   ]
  },
  {
   "cell_type": "code",
   "execution_count": 143,
   "metadata": {},
   "outputs": [
    {
     "data": {
      "text/plain": [
       "[{'Name': 'jack', 'Course No.': 1, 'Semesters Reg.': ['F18']},\n",
       " {'Name': 'peter', 'Course No.': 2, 'Semesters Reg.': ['F18', 'W19']}]"
      ]
     },
     "execution_count": 143,
     "metadata": {},
     "output_type": "execute_result"
    }
   ],
   "source": [
    "list_of_dictionary"
   ]
  },
  {
   "cell_type": "code",
   "execution_count": 144,
   "metadata": {
    "collapsed": true
   },
   "outputs": [],
   "source": [
    "list_of_dictionary.append(dict3)"
   ]
  },
  {
   "cell_type": "code",
   "execution_count": 145,
   "metadata": {},
   "outputs": [
    {
     "data": {
      "text/plain": [
       "[{'Name': 'jack', 'Course No.': 1, 'Semesters Reg.': ['F18']},\n",
       " {'Name': 'peter', 'Course No.': 2, 'Semesters Reg.': ['F18', 'W19']},\n",
       " {'Name': 'hossein', 'Course No.': 2, 'Semester Reg.': ['F18', 'W19', 'S19']}]"
      ]
     },
     "execution_count": 145,
     "metadata": {},
     "output_type": "execute_result"
    }
   ],
   "source": [
    "list_of_dictionary"
   ]
  },
  {
   "cell_type": "code",
   "execution_count": 150,
   "metadata": {},
   "outputs": [
    {
     "data": {
      "text/plain": [
       "[{'Name': 'jack', 'Course No.': 1, 'Semesters Reg.': ['F18']}, {}, {}, {}, {}]"
      ]
     },
     "execution_count": 150,
     "metadata": {},
     "output_type": "execute_result"
    }
   ],
   "source": [
    "list_of_dictionary = []\n",
    "dict1 = {'Name': 'jack', 'Course No.': 1, 'Semesters Reg.': ['F18']}\n",
    "\n",
    "for item in [dict1,{},{},{},{}]:\n",
    "    list_of_dictionary.append(item)\n",
    "    \n",
    "list_of_dictionary"
   ]
  },
  {
   "cell_type": "code",
   "execution_count": 149,
   "metadata": {},
   "outputs": [
    {
     "data": {
      "text/plain": [
       "[{}, {}, {}, {}, {}]"
      ]
     },
     "execution_count": 149,
     "metadata": {},
     "output_type": "execute_result"
    }
   ],
   "source": []
  },
  {
   "cell_type": "code",
   "execution_count": 153,
   "metadata": {},
   "outputs": [],
   "source": [
    "my_dict = {'Name': 'jack', 'Course No.': 1, 'Semesters Reg.': ['F18']}"
   ]
  },
  {
   "cell_type": "code",
   "execution_count": 154,
   "metadata": {},
   "outputs": [
    {
     "name": "stdout",
     "output_type": "stream",
     "text": [
      "jack\n",
      "1\n",
      "['F18']\n",
      "peter\n",
      "2\n",
      "['F18', 'W19']\n",
      "saif\n",
      "5\n",
      "['F17', 'F18']\n",
      "hossein\n",
      "2\n",
      "['W18']\n",
      "asif\n",
      "0\n",
      "[]\n"
     ]
    }
   ],
   "source": [
    "name_list = [\"jack\",\"peter\",\"saif\",\"hossein\",\"asif\"]\n",
    "course_num = [1,2,5,2,0]\n",
    "semester_list = [[\"F18\"],[\"F18\",\"W19\"],[\"F17\",\"F18\"],[\"W18\"],[]]\n",
    "\n",
    "\n",
    "\n",
    "for i in [0,1,2,3,4]:\n",
    "    print(name_list[i])\n",
    "    "
   ]
  },
  {
   "cell_type": "code",
   "execution_count": null,
   "metadata": {
    "collapsed": true
   },
   "outputs": [],
   "source": [
    "{\"Name\":\"Joey\"}\n"
   ]
  },
  {
   "cell_type": "code",
   "execution_count": 155,
   "metadata": {
    "collapsed": true
   },
   "outputs": [],
   "source": [
    "name_list = [\"Joey\"]"
   ]
  },
  {
   "cell_type": "code",
   "execution_count": 158,
   "metadata": {
    "collapsed": true
   },
   "outputs": [],
   "source": [
    "my_dict={}\n",
    "list_of_dict = []\n",
    "for item in name_list:\n",
    "    my_dict[\"Name\"]=item\n",
    "    list_of_dict.append(my_dict)\n",
    "    "
   ]
  },
  {
   "cell_type": "code",
   "execution_count": 159,
   "metadata": {},
   "outputs": [
    {
     "data": {
      "text/plain": [
       "{'Name': 'Joey'}"
      ]
     },
     "execution_count": 159,
     "metadata": {},
     "output_type": "execute_result"
    }
   ],
   "source": [
    "my_dict"
   ]
  },
  {
   "cell_type": "code",
   "execution_count": 160,
   "metadata": {},
   "outputs": [
    {
     "data": {
      "text/plain": [
       "[{'Name': 'Joey'}]"
      ]
     },
     "execution_count": 160,
     "metadata": {},
     "output_type": "execute_result"
    }
   ],
   "source": [
    "list_of_dict"
   ]
  },
  {
   "cell_type": "code",
   "execution_count": 161,
   "metadata": {
    "collapsed": true
   },
   "outputs": [],
   "source": [
    "name_list = [\"jack\",\"peter\",\"saif\",\"hossein\",\"asif\"]\n",
    "course_num = [1,2,5,2,0]\n",
    "semester_list = [[\"F18\"],[\"F18\",\"W19\"],[\"F17\",\"F18\"],[\"W18\"],[]]"
   ]
  },
  {
   "cell_type": "code",
   "execution_count": null,
   "metadata": {
    "collapsed": true
   },
   "outputs": [],
   "source": [
    "[{'Name': 'jack', 'Course No.': 1, 'Semesters Reg.': ['F18']},\n",
    " {'Name': 'peter', 'Course No.': 2, 'Semesters Reg.': ['F18', 'W19']},\n",
    " {'Name': 'hossein', 'Course No.': 2, 'Semester Reg.': ['F18', 'W19', 'S19']}]"
   ]
  },
  {
   "cell_type": "code",
   "execution_count": 172,
   "metadata": {},
   "outputs": [
    {
     "data": {
      "text/plain": [
       "[{'Name': 'jack', 'Course No.': 1, 'Sememster Reg.': ['F18']},\n",
       " {'Name': 'peter', 'Course No.': 2, 'Sememster Reg.': ['F18', 'W19']},\n",
       " {'Name': 'saif', 'Course No.': 5, 'Sememster Reg.': ['F17', 'F18']},\n",
       " {'Name': 'hossein', 'Course No.': 2, 'Sememster Reg.': ['W18']},\n",
       " {'Name': 'asif', 'Course No.': 0, 'Sememster Reg.': []}]"
      ]
     },
     "execution_count": 172,
     "metadata": {},
     "output_type": "execute_result"
    }
   ],
   "source": [
    "list_of_dict=[]\n",
    "for i in range(5):\n",
    "    my_dict={\"Name\":name_list[i],\"Course No.\":course_num[i],\"Sememster Reg.\":semester_list[i]}\n",
    "    list_of_dict.append(my_dict)\n",
    "    \n",
    "list_of_dict"
   ]
  },
  {
   "cell_type": "code",
   "execution_count": 166,
   "metadata": {},
   "outputs": [
    {
     "data": {
      "text/plain": [
       "[{'Name': 'jack', 'Course No.': 1, 'Sememster Reg.': ['F18']},\n",
       " {'Name': 'peter', 'Course No.': 2, 'Sememster Reg.': ['F18', 'W19']},\n",
       " {'Name': 'saif', 'Course No.': 5, 'Sememster Reg.': ['F17', 'F18']},\n",
       " {'Name': 'hossein', 'Course No.': 2, 'Sememster Reg.': ['W18']},\n",
       " {'Name': 'asif', 'Course No.': 0, 'Sememster Reg.': []}]"
      ]
     },
     "execution_count": 166,
     "metadata": {},
     "output_type": "execute_result"
    }
   ],
   "source": [
    "list_of_dict"
   ]
  },
  {
   "cell_type": "code",
   "execution_count": 168,
   "metadata": {},
   "outputs": [
    {
     "data": {
      "text/plain": [
       "[(1, 'a', 10), (2, 'b', 20), (3, 'c', 30)]"
      ]
     },
     "execution_count": 168,
     "metadata": {},
     "output_type": "execute_result"
    }
   ],
   "source": [
    "list(zip([1,2,3],['a','b','c'],[10,20,30]))"
   ]
  },
  {
   "cell_type": "code",
   "execution_count": null,
   "metadata": {
    "collapsed": true
   },
   "outputs": [],
   "source": [
    "name_list = [\"jack\",\"peter\",\"saif\",\"hossein\",\"asif\"]\n",
    "course_num = [1,2,5,2,0]\n",
    "semester_list = [[\"F18\"],[\"F18\",\"W19\"],[\"F17\",\"F18\"],[\"W18\"],[]]"
   ]
  },
  {
   "cell_type": "code",
   "execution_count": 173,
   "metadata": {},
   "outputs": [
    {
     "data": {
      "text/plain": [
       "[('jack', 1, ['F18']),\n",
       " ('peter', 2, ['F18', 'W19']),\n",
       " ('saif', 5, ['F17', 'F18']),\n",
       " ('hossein', 2, ['W18']),\n",
       " ('asif', 0, [])]"
      ]
     },
     "execution_count": 173,
     "metadata": {},
     "output_type": "execute_result"
    }
   ],
   "source": [
    "list(zip(name_list,course_num,semester_list))"
   ]
  },
  {
   "cell_type": "code",
   "execution_count": 176,
   "metadata": {},
   "outputs": [
    {
     "data": {
      "text/plain": [
       "[{'Name': 'jack', 'Course No.': 1, 'Sememster Reg.': ['F18']},\n",
       " {'Name': 'peter', 'Course No.': 2, 'Sememster Reg.': ['F18', 'W19']},\n",
       " {'Name': 'saif', 'Course No.': 5, 'Sememster Reg.': ['F17', 'F18']},\n",
       " {'Name': 'hossein', 'Course No.': 2, 'Sememster Reg.': ['W18']},\n",
       " {'Name': 'asif', 'Course No.': 0, 'Sememster Reg.': []}]"
      ]
     },
     "execution_count": 176,
     "metadata": {},
     "output_type": "execute_result"
    }
   ],
   "source": [
    "list_of_dict=[]\n",
    "for name, id, semester in zip(name_list,course_num,semester_list):\n",
    "    my_dict={\"Name\":name,\"Course No.\":id,\"Sememster Reg.\":semester}\n",
    "    list_of_dict.append(my_dict)\n",
    "list_of_dict   "
   ]
  },
  {
   "cell_type": "code",
   "execution_count": null,
   "metadata": {
    "collapsed": true
   },
   "outputs": [],
   "source": []
  }
 ],
 "metadata": {
  "kernelspec": {
   "display_name": "myenvjupyter",
   "language": "python",
   "name": "myenvjupyter"
  },
  "language_info": {
   "codemirror_mode": {
    "name": "ipython",
    "version": 3
   },
   "file_extension": ".py",
   "mimetype": "text/x-python",
   "name": "python",
   "nbconvert_exporter": "python",
   "pygments_lexer": "ipython3",
   "version": "3.7.1"
  }
 },
 "nbformat": 4,
 "nbformat_minor": 2
}
